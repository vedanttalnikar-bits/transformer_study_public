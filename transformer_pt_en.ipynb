{
  "nbformat": 4,
  "nbformat_minor": 0,
  "metadata": {
    "colab": {
      "name": "Untitled0.ipynb",
      "provenance": [],
      "authorship_tag": "ABX9TyNLDAFcNMNbtchiAby6jYDZ",
      "include_colab_link": true
    },
    "kernelspec": {
      "name": "python3",
      "display_name": "Python 3"
    },
    "accelerator": "GPU"
  },
  "cells": [
    {
      "cell_type": "markdown",
      "metadata": {
        "id": "view-in-github",
        "colab_type": "text"
      },
      "source": [
        "<a href=\"https://colab.research.google.com/github/vedanttalnikar-bits/transformer_study_public/blob/main/transformer_pt_en.ipynb\" target=\"_parent\"><img src=\"https://colab.research.google.com/assets/colab-badge.svg\" alt=\"Open In Colab\"/></a>"
      ]
    },
    {
      "cell_type": "code",
      "metadata": {
        "id": "XFG0NDRu5mYQ"
      },
      "source": [
        "!pip install -q tfds-nightly\n",
        "\n",
        "# Pin matplotlib version to 3.2.2 since in the latest version\n",
        "# transformer.ipynb fails with the following error:\n",
        "# https://stackoverflow.com/questions/62953704/valueerror-the-number-of-fixedlocator-locations-5-usually-from-a-call-to-set\n",
        "!pip install matplotlib==3.2.2\n"
      ],
      "execution_count": null,
      "outputs": []
    },
    {
      "cell_type": "code",
      "metadata": {
        "id": "Epj64kDfu0HQ"
      },
      "source": [
        "!pip install pandas\r\n",
        "!pip install transformers"
      ],
      "execution_count": null,
      "outputs": []
    },
    {
      "cell_type": "code",
      "metadata": {
        "id": "n-CGyIwhv54p"
      },
      "source": [
        "import tensorflow_datasets as tfds\r\n",
        "import tensorflow as tf\r\n",
        "\r\n",
        "import time\r\n",
        "import numpy as np\r\n",
        "import matplotlib.pyplot as plt"
      ],
      "execution_count": 4,
      "outputs": []
    },
    {
      "cell_type": "code",
      "metadata": {
        "id": "e4Ytzdx94KM6"
      },
      "source": [
        "examples, metadata = tfds.load('ted_hrlr_translate/pt_to_en', with_info=True,\r\n",
        "                               as_supervised=True)\r\n",
        "train_examples, val_examples = examples['train'], examples['validation']"
      ],
      "execution_count": null,
      "outputs": []
    },
    {
      "cell_type": "code",
      "metadata": {
        "id": "iTPTT5eV7Xjx"
      },
      "source": [
        "tokenizer_en = tfds.deprecated.text.SubwordTextEncoder.build_from_corpus(\r\n",
        "    (en.numpy() for pt, en in train_examples), target_vocab_size=2**13)\r\n",
        "\r\n",
        "tokenizer_pt = tfds.deprecated.text.SubwordTextEncoder.build_from_corpus(\r\n",
        "    (pt.numpy() for pt, en in train_examples), target_vocab_size=2**13)"
      ],
      "execution_count": 7,
      "outputs": []
    },
    {
      "cell_type": "code",
      "metadata": {
        "id": "pUf6JAao8PmR",
        "colab": {
          "base_uri": "https://localhost:8080/"
        },
        "outputId": "cf4d5cd9-118d-4009-a599-d00ad18ce507"
      },
      "source": [
        "sample_string = 'Transformer is awesome.'\r\n",
        "\r\n",
        "tokenized_string = tokenizer_en.encode(sample_string)\r\n",
        "print ('Tokenized string is {}'.format(tokenized_string))\r\n",
        "\r\n",
        "original_string = tokenizer_en.decode(tokenized_string)\r\n",
        "print ('The original string: {}'.format(original_string))\r\n",
        "\r\n",
        "assert original_string == sample_string"
      ],
      "execution_count": 9,
      "outputs": [
        {
          "output_type": "stream",
          "text": [
            "Tokenized string is [7915, 1248, 7946, 7194, 13, 2799, 7877]\n",
            "The original string: Transformer is awesome.\n"
          ],
          "name": "stdout"
        }
      ]
    },
    {
      "cell_type": "code",
      "metadata": {
        "id": "bf2ntBxjkqK6"
      },
      "source": [
        "for ts in tokenized_string:\n",
        "  print ('{} ----> {}'.format(ts, tokenizer_en.decode([ts])))"
      ],
      "execution_count": null,
      "outputs": []
    },
    {
      "cell_type": "code",
      "metadata": {
        "id": "riw3xJ8M8X06"
      },
      "source": [
        "BUFFER_SIZE = 20000\r\n",
        "BATCH_SIZE = 64"
      ],
      "execution_count": 12,
      "outputs": []
    },
    {
      "cell_type": "code",
      "metadata": {
        "id": "7GDKs8Hl-eOK"
      },
      "source": [
        "def encode(lang1, lang2):\r\n",
        "  lang1 = [tokenizer_pt.vocab_size] + tokenizer_pt.encode(\r\n",
        "      lang1.numpy()) + [tokenizer_pt.vocab_size+1]\r\n",
        "\r\n",
        "  lang2 = [tokenizer_en.vocab_size] + tokenizer_en.encode(\r\n",
        "      lang2.numpy()) + [tokenizer_en.vocab_size+1]\r\n",
        "  \r\n",
        "  return lang1, lang2"
      ],
      "execution_count": 13,
      "outputs": []
    },
    {
      "cell_type": "code",
      "metadata": {
        "id": "YPVesZ76-hPy"
      },
      "source": [
        "def tf_encode(pt, en):\r\n",
        "  result_pt, result_en = tf.py_function(encode, [pt, en], [tf.int64, tf.int64])\r\n",
        "  result_pt.set_shape([None])\r\n",
        "  result_en.set_shape([None])\r\n",
        "\r\n",
        "  return result_pt, result_en"
      ],
      "execution_count": 14,
      "outputs": []
    },
    {
      "cell_type": "code",
      "metadata": {
        "id": "zN0SWcFN-t_6"
      },
      "source": [
        "MAX_LENGTH = 40"
      ],
      "execution_count": 15,
      "outputs": []
    },
    {
      "cell_type": "code",
      "metadata": {
        "id": "8Qf-Iw6Q-0oi"
      },
      "source": [
        "def filter_max_length(x, y, max_length=MAX_LENGTH):\r\n",
        "  return tf.logical_and(tf.size(x) <= max_length,\r\n",
        "                        tf.size(y) <= max_length)"
      ],
      "execution_count": 16,
      "outputs": []
    },
    {
      "cell_type": "code",
      "metadata": {
        "id": "DJiqmRNq-6Fi"
      },
      "source": [
        "train_dataset = train_examples.map(tf_encode)\r\n",
        "train_dataset = train_dataset.filter(filter_max_length)\r\n",
        "# cache the dataset to memory to get a speedup while reading from it.\r\n",
        "train_dataset = train_dataset.cache()\r\n",
        "train_dataset = train_dataset.shuffle(BUFFER_SIZE).padded_batch(BATCH_SIZE)\r\n",
        "train_dataset = train_dataset.prefetch(tf.data.experimental.AUTOTUNE)\r\n",
        "\r\n",
        "\r\n",
        "val_dataset = val_examples.map(tf_encode)\r\n",
        "val_dataset = val_dataset.filter(filter_max_length).padded_batch(BATCH_SIZE)"
      ],
      "execution_count": 18,
      "outputs": []
    },
    {
      "cell_type": "code",
      "metadata": {
        "id": "85Og5SGO--DK"
      },
      "source": [
        "pt_batch, en_batch = next(iter(val_dataset))\r\n",
        "pt_batch, en_batch"
      ],
      "execution_count": null,
      "outputs": []
    },
    {
      "cell_type": "code",
      "metadata": {
        "id": "Ad4l9IV7_HOK"
      },
      "source": [
        "def get_angles(pos, i, d_model):\r\n",
        "  angle_rates = 1 / np.power(10000, (2 * (i//2)) / np.float32(d_model))\r\n",
        "  return pos * angle_rates"
      ],
      "execution_count": 20,
      "outputs": []
    },
    {
      "cell_type": "code",
      "metadata": {
        "id": "gn_XLRBf_Jhi"
      },
      "source": [
        "def positional_encoding(position, d_model):\r\n",
        "  angle_rads = get_angles(np.arange(position)[:, np.newaxis],\r\n",
        "                          np.arange(d_model)[np.newaxis, :],\r\n",
        "                          d_model)\r\n",
        "  \r\n",
        "  # apply sin to even indices in the array; 2i\r\n",
        "  angle_rads[:, 0::2] = np.sin(angle_rads[:, 0::2])\r\n",
        "  \r\n",
        "  # apply cos to odd indices in the array; 2i+1\r\n",
        "  angle_rads[:, 1::2] = np.cos(angle_rads[:, 1::2])\r\n",
        "    \r\n",
        "  pos_encoding = angle_rads[np.newaxis, ...]\r\n",
        "    \r\n",
        "  return tf.cast(pos_encoding, dtype=tf.float32)"
      ],
      "execution_count": 21,
      "outputs": []
    },
    {
      "cell_type": "code",
      "metadata": {
        "id": "CNg3-Tdr_SbC"
      },
      "source": [
        "pos_encoding = positional_encoding(50, 512)\r\n",
        "print (pos_encoding.shape)\r\n",
        "\r\n",
        "plt.pcolormesh(pos_encoding[0], cmap='RdBu')\r\n",
        "plt.xlabel('Depth')\r\n",
        "plt.xlim((0, 512))\r\n",
        "plt.ylabel('Position')\r\n",
        "plt.colorbar()\r\n",
        "plt.show()"
      ],
      "execution_count": null,
      "outputs": []
    },
    {
      "cell_type": "code",
      "metadata": {
        "id": "R9hb7CA7_bhq"
      },
      "source": [
        "def create_padding_mask(seq):\r\n",
        "  seq = tf.cast(tf.math.equal(seq, 0), tf.float32)\r\n",
        "  \r\n",
        "  # add extra dimensions to add the padding\r\n",
        "  # to the attention logits.\r\n",
        "  return seq[:, tf.newaxis, tf.newaxis, :]  # (batch_size, 1, 1, seq_len)"
      ],
      "execution_count": 23,
      "outputs": []
    },
    {
      "cell_type": "code",
      "metadata": {
        "id": "u7uOHyCW_f6q"
      },
      "source": [
        "x = tf.constant([[7, 6, 0, 0, 1], [1, 2, 3, 0, 0], [0, 0, 0, 4, 5]])\r\n",
        "create_padding_mask(x)"
      ],
      "execution_count": null,
      "outputs": []
    },
    {
      "cell_type": "code",
      "metadata": {
        "id": "GrkYFjLn_kXi"
      },
      "source": [
        "def create_look_ahead_mask(size):\r\n",
        "  mask = 1 - tf.linalg.band_part(tf.ones((size, size)), -1, 0)\r\n",
        "  return mask  # (seq_len, seq_len)"
      ],
      "execution_count": 25,
      "outputs": []
    },
    {
      "cell_type": "code",
      "metadata": {
        "id": "uS5xTUVa_op6"
      },
      "source": [
        "x = tf.random.uniform((1, 3))\r\n",
        "temp = create_look_ahead_mask(x.shape[1])\r\n",
        "temp"
      ],
      "execution_count": null,
      "outputs": []
    },
    {
      "cell_type": "code",
      "metadata": {
        "id": "Usz_hoBJ_xKS"
      },
      "source": [
        "def scaled_dot_product_attention(q, k, v, mask):\r\n",
        "  \"\"\"Calculate the attention weights.\r\n",
        "  q, k, v must have matching leading dimensions.\r\n",
        "  k, v must have matching penultimate dimension, i.e.: seq_len_k = seq_len_v.\r\n",
        "  The mask has different shapes depending on its type(padding or look ahead) \r\n",
        "  but it must be broadcastable for addition.\r\n",
        "  \r\n",
        "  Args:\r\n",
        "    q: query shape == (..., seq_len_q, depth)\r\n",
        "    k: key shape == (..., seq_len_k, depth)\r\n",
        "    v: value shape == (..., seq_len_v, depth_v)\r\n",
        "    mask: Float tensor with shape broadcastable \r\n",
        "          to (..., seq_len_q, seq_len_k). Defaults to None.\r\n",
        "    \r\n",
        "  Returns:\r\n",
        "    output, attention_weights\r\n",
        "  \"\"\"\r\n",
        "\r\n",
        "  matmul_qk = tf.matmul(q, k, transpose_b=True)  # (..., seq_len_q, seq_len_k)\r\n",
        "  \r\n",
        "  # scale matmul_qk\r\n",
        "  dk = tf.cast(tf.shape(k)[-1], tf.float32)\r\n",
        "  scaled_attention_logits = matmul_qk / tf.math.sqrt(dk)\r\n",
        "\r\n",
        "  # add the mask to the scaled tensor.\r\n",
        "  if mask is not None:\r\n",
        "    scaled_attention_logits += (mask * -1e9)  \r\n",
        "\r\n",
        "  # softmax is normalized on the last axis (seq_len_k) so that the scores\r\n",
        "  # add up to 1.\r\n",
        "  attention_weights = tf.nn.softmax(scaled_attention_logits, axis=-1)  # (..., seq_len_q, seq_len_k)\r\n",
        "\r\n",
        "  output = tf.matmul(attention_weights, v)  # (..., seq_len_q, depth_v)\r\n",
        "\r\n",
        "  return output, attention_weights"
      ],
      "execution_count": 30,
      "outputs": []
    },
    {
      "cell_type": "code",
      "metadata": {
        "id": "h66JxxqtAAk5"
      },
      "source": [
        "def print_out(q, k, v):\r\n",
        "  temp_out, temp_attn = scaled_dot_product_attention(\r\n",
        "      q, k, v, None)\r\n",
        "  print ('Attention weights are:')\r\n",
        "  print (temp_attn)\r\n",
        "  print ('Output is:')\r\n",
        "  print (temp_out)"
      ],
      "execution_count": 32,
      "outputs": []
    },
    {
      "cell_type": "code",
      "metadata": {
        "id": "mjcjfZQfAO2L"
      },
      "source": [
        "np.set_printoptions(suppress=True)\r\n",
        "\r\n",
        "temp_k = tf.constant([[10,0,0],\r\n",
        "                      [0,10,0],\r\n",
        "                      [0,0,10],\r\n",
        "                      [0,0,10]], dtype=tf.float32)  # (4, 3)\r\n",
        "\r\n",
        "temp_v = tf.constant([[   1,0],\r\n",
        "                      [  10,0],\r\n",
        "                      [ 100,5],\r\n",
        "                      [1000,6]], dtype=tf.float32)  # (4, 2)\r\n",
        "\r\n",
        "# This `query` aligns with the second `key`,\r\n",
        "# so the second `value` is returned.\r\n",
        "temp_q = tf.constant([[0, 10, 0]], dtype=tf.float32)  # (1, 3)\r\n",
        "print_out(temp_q, temp_k, temp_v)"
      ],
      "execution_count": null,
      "outputs": []
    },
    {
      "cell_type": "code",
      "metadata": {
        "colab": {
          "base_uri": "https://localhost:8080/"
        },
        "id": "Yz-f43QzAhOj",
        "outputId": "b3984d8e-91ab-4d62-e600-2422684f5df1"
      },
      "source": [
        "# This query aligns with a repeated key (third and fourth), \r\n",
        "# so all associated values get averaged.\r\n",
        "temp_q = tf.constant([[0, 0, 10]], dtype=tf.float32)  # (1, 3)\r\n",
        "print_out(temp_q, temp_k, temp_v)"
      ],
      "execution_count": 34,
      "outputs": [
        {
          "output_type": "stream",
          "text": [
            "Attention weights are:\n",
            "tf.Tensor([[0.  0.  0.5 0.5]], shape=(1, 4), dtype=float32)\n",
            "Output is:\n",
            "tf.Tensor([[550.    5.5]], shape=(1, 2), dtype=float32)\n"
          ],
          "name": "stdout"
        }
      ]
    },
    {
      "cell_type": "code",
      "metadata": {
        "colab": {
          "base_uri": "https://localhost:8080/"
        },
        "id": "tgIgaD9BAnDb",
        "outputId": "398a1e51-a20f-449e-f05a-1ad5d9738af8"
      },
      "source": [
        "# This query aligns equally with the first and second key, \r\n",
        "# so their values get averaged.\r\n",
        "temp_q = tf.constant([[10, 10, 0]], dtype=tf.float32)  # (1, 3)\r\n",
        "print_out(temp_q, temp_k, temp_v)"
      ],
      "execution_count": 35,
      "outputs": [
        {
          "output_type": "stream",
          "text": [
            "Attention weights are:\n",
            "tf.Tensor([[0.5 0.5 0.  0. ]], shape=(1, 4), dtype=float32)\n",
            "Output is:\n",
            "tf.Tensor([[5.5 0. ]], shape=(1, 2), dtype=float32)\n"
          ],
          "name": "stdout"
        }
      ]
    },
    {
      "cell_type": "code",
      "metadata": {
        "id": "elyi785RArND"
      },
      "source": [
        "temp_q = tf.constant([[0, 0, 10], [0, 10, 0], [10, 10, 0]], dtype=tf.float32)  # (3, 3)\r\n",
        "print_out(temp_q, temp_k, temp_v)"
      ],
      "execution_count": null,
      "outputs": []
    },
    {
      "cell_type": "code",
      "metadata": {
        "id": "vTSdJpl2AyXb"
      },
      "source": [
        "class MultiHeadAttention(tf.keras.layers.Layer):\r\n",
        "  def __init__(self, d_model, num_heads):\r\n",
        "    super(MultiHeadAttention, self).__init__()\r\n",
        "    self.num_heads = num_heads\r\n",
        "    self.d_model = d_model\r\n",
        "    \r\n",
        "    assert d_model % self.num_heads == 0\r\n",
        "    \r\n",
        "    self.depth = d_model // self.num_heads\r\n",
        "    \r\n",
        "    self.wq = tf.keras.layers.Dense(d_model)\r\n",
        "    self.wk = tf.keras.layers.Dense(d_model)\r\n",
        "    self.wv = tf.keras.layers.Dense(d_model)\r\n",
        "    \r\n",
        "    self.dense = tf.keras.layers.Dense(d_model)\r\n",
        "        \r\n",
        "  def split_heads(self, x, batch_size):\r\n",
        "    \"\"\"Split the last dimension into (num_heads, depth).\r\n",
        "    Transpose the result such that the shape is (batch_size, num_heads, seq_len, depth)\r\n",
        "    \"\"\"\r\n",
        "    x = tf.reshape(x, (batch_size, -1, self.num_heads, self.depth))\r\n",
        "    return tf.transpose(x, perm=[0, 2, 1, 3])\r\n",
        "    \r\n",
        "  def call(self, v, k, q, mask):\r\n",
        "    batch_size = tf.shape(q)[0]\r\n",
        "    \r\n",
        "    q = self.wq(q)  # (batch_size, seq_len, d_model)\r\n",
        "    k = self.wk(k)  # (batch_size, seq_len, d_model)\r\n",
        "    v = self.wv(v)  # (batch_size, seq_len, d_model)\r\n",
        "    \r\n",
        "    q = self.split_heads(q, batch_size)  # (batch_size, num_heads, seq_len_q, depth)\r\n",
        "    k = self.split_heads(k, batch_size)  # (batch_size, num_heads, seq_len_k, depth)\r\n",
        "    v = self.split_heads(v, batch_size)  # (batch_size, num_heads, seq_len_v, depth)\r\n",
        "    \r\n",
        "    # scaled_attention.shape == (batch_size, num_heads, seq_len_q, depth)\r\n",
        "    # attention_weights.shape == (batch_size, num_heads, seq_len_q, seq_len_k)\r\n",
        "    scaled_attention, attention_weights = scaled_dot_product_attention(\r\n",
        "        q, k, v, mask)\r\n",
        "    \r\n",
        "    scaled_attention = tf.transpose(scaled_attention, perm=[0, 2, 1, 3])  # (batch_size, seq_len_q, num_heads, depth)\r\n",
        "\r\n",
        "    concat_attention = tf.reshape(scaled_attention, \r\n",
        "                                  (batch_size, -1, self.d_model))  # (batch_size, seq_len_q, d_model)\r\n",
        "\r\n",
        "    output = self.dense(concat_attention)  # (batch_size, seq_len_q, d_model)\r\n",
        "        \r\n",
        "    return output, attention_weights"
      ],
      "execution_count": 37,
      "outputs": []
    },
    {
      "cell_type": "code",
      "metadata": {
        "colab": {
          "base_uri": "https://localhost:8080/"
        },
        "id": "CxNIjeRcA3dj",
        "outputId": "32ae9ac0-1595-4ec5-f6ec-4ffc352be420"
      },
      "source": [
        "temp_mha = MultiHeadAttention(d_model=512, num_heads=8)\r\n",
        "y = tf.random.uniform((1, 60, 512))  # (batch_size, encoder_sequence, d_model)\r\n",
        "out, attn = temp_mha(y, k=y, q=y, mask=None)\r\n",
        "out.shape, attn.shape"
      ],
      "execution_count": 38,
      "outputs": [
        {
          "output_type": "execute_result",
          "data": {
            "text/plain": [
              "(TensorShape([1, 60, 512]), TensorShape([1, 8, 60, 60]))"
            ]
          },
          "metadata": {
            "tags": []
          },
          "execution_count": 38
        }
      ]
    },
    {
      "cell_type": "code",
      "metadata": {
        "id": "8Q8GV_MHA7oj"
      },
      "source": [
        "def point_wise_feed_forward_network(d_model, dff):\r\n",
        "  return tf.keras.Sequential([\r\n",
        "      tf.keras.layers.Dense(dff, activation='relu'),  # (batch_size, seq_len, dff)\r\n",
        "      tf.keras.layers.Dense(d_model)  # (batch_size, seq_len, d_model)\r\n",
        "  ])"
      ],
      "execution_count": 39,
      "outputs": []
    },
    {
      "cell_type": "code",
      "metadata": {
        "colab": {
          "base_uri": "https://localhost:8080/"
        },
        "id": "ZB9hKX_qBBEN",
        "outputId": "5e0f5a06-12ca-426e-d494-decffac7568d"
      },
      "source": [
        "sample_ffn = point_wise_feed_forward_network(512, 2048)\r\n",
        "sample_ffn(tf.random.uniform((64, 50, 512))).shape"
      ],
      "execution_count": 40,
      "outputs": [
        {
          "output_type": "execute_result",
          "data": {
            "text/plain": [
              "TensorShape([64, 50, 512])"
            ]
          },
          "metadata": {
            "tags": []
          },
          "execution_count": 40
        }
      ]
    },
    {
      "cell_type": "code",
      "metadata": {
        "id": "jN8qMmIHBHLF"
      },
      "source": [
        "class EncoderLayer(tf.keras.layers.Layer):\r\n",
        "  def __init__(self, d_model, num_heads, dff, rate=0.1):\r\n",
        "    super(EncoderLayer, self).__init__()\r\n",
        "\r\n",
        "    self.mha = MultiHeadAttention(d_model, num_heads)\r\n",
        "    self.ffn = point_wise_feed_forward_network(d_model, dff)\r\n",
        "\r\n",
        "    self.layernorm1 = tf.keras.layers.LayerNormalization(epsilon=1e-6)\r\n",
        "    self.layernorm2 = tf.keras.layers.LayerNormalization(epsilon=1e-6)\r\n",
        "    \r\n",
        "    self.dropout1 = tf.keras.layers.Dropout(rate)\r\n",
        "    self.dropout2 = tf.keras.layers.Dropout(rate)\r\n",
        "    \r\n",
        "  def call(self, x, training, mask):\r\n",
        "\r\n",
        "    attn_output, _ = self.mha(x, x, x, mask)  # (batch_size, input_seq_len, d_model)\r\n",
        "    attn_output = self.dropout1(attn_output, training=training)\r\n",
        "    out1 = self.layernorm1(x + attn_output)  # (batch_size, input_seq_len, d_model)\r\n",
        "    \r\n",
        "    ffn_output = self.ffn(out1)  # (batch_size, input_seq_len, d_model)\r\n",
        "    ffn_output = self.dropout2(ffn_output, training=training)\r\n",
        "    out2 = self.layernorm2(out1 + ffn_output)  # (batch_size, input_seq_len, d_model)\r\n",
        "    \r\n",
        "    return out2"
      ],
      "execution_count": 41,
      "outputs": []
    },
    {
      "cell_type": "code",
      "metadata": {
        "colab": {
          "base_uri": "https://localhost:8080/"
        },
        "id": "eOJaqVLSBMyd",
        "outputId": "f0239c76-94aa-42f9-f0d8-db4d4f1728d5"
      },
      "source": [
        "sample_encoder_layer = EncoderLayer(512, 8, 2048)\r\n",
        "\r\n",
        "sample_encoder_layer_output = sample_encoder_layer(\r\n",
        "    tf.random.uniform((64, 43, 512)), False, None)\r\n",
        "\r\n",
        "sample_encoder_layer_output.shape  # (batch_size, input_seq_len, d_model)"
      ],
      "execution_count": 42,
      "outputs": [
        {
          "output_type": "execute_result",
          "data": {
            "text/plain": [
              "TensorShape([64, 43, 512])"
            ]
          },
          "metadata": {
            "tags": []
          },
          "execution_count": 42
        }
      ]
    },
    {
      "cell_type": "code",
      "metadata": {
        "id": "v-O9itNxBR1D"
      },
      "source": [
        "class DecoderLayer(tf.keras.layers.Layer):\r\n",
        "  def __init__(self, d_model, num_heads, dff, rate=0.1):\r\n",
        "    super(DecoderLayer, self).__init__()\r\n",
        "\r\n",
        "    self.mha1 = MultiHeadAttention(d_model, num_heads)\r\n",
        "    self.mha2 = MultiHeadAttention(d_model, num_heads)\r\n",
        "\r\n",
        "    self.ffn = point_wise_feed_forward_network(d_model, dff)\r\n",
        " \r\n",
        "    self.layernorm1 = tf.keras.layers.LayerNormalization(epsilon=1e-6)\r\n",
        "    self.layernorm2 = tf.keras.layers.LayerNormalization(epsilon=1e-6)\r\n",
        "    self.layernorm3 = tf.keras.layers.LayerNormalization(epsilon=1e-6)\r\n",
        "    \r\n",
        "    self.dropout1 = tf.keras.layers.Dropout(rate)\r\n",
        "    self.dropout2 = tf.keras.layers.Dropout(rate)\r\n",
        "    self.dropout3 = tf.keras.layers.Dropout(rate)\r\n",
        "    \r\n",
        "    \r\n",
        "  def call(self, x, enc_output, training, \r\n",
        "           look_ahead_mask, padding_mask):\r\n",
        "    # enc_output.shape == (batch_size, input_seq_len, d_model)\r\n",
        "\r\n",
        "    attn1, attn_weights_block1 = self.mha1(x, x, x, look_ahead_mask)  # (batch_size, target_seq_len, d_model)\r\n",
        "    attn1 = self.dropout1(attn1, training=training)\r\n",
        "    out1 = self.layernorm1(attn1 + x)\r\n",
        "    \r\n",
        "    attn2, attn_weights_block2 = self.mha2(\r\n",
        "        enc_output, enc_output, out1, padding_mask)  # (batch_size, target_seq_len, d_model)\r\n",
        "    attn2 = self.dropout2(attn2, training=training)\r\n",
        "    out2 = self.layernorm2(attn2 + out1)  # (batch_size, target_seq_len, d_model)\r\n",
        "    \r\n",
        "    ffn_output = self.ffn(out2)  # (batch_size, target_seq_len, d_model)\r\n",
        "    ffn_output = self.dropout3(ffn_output, training=training)\r\n",
        "    out3 = self.layernorm3(ffn_output + out2)  # (batch_size, target_seq_len, d_model)\r\n",
        "    \r\n",
        "    return out3, attn_weights_block1, attn_weights_block2"
      ],
      "execution_count": 43,
      "outputs": []
    },
    {
      "cell_type": "code",
      "metadata": {
        "colab": {
          "base_uri": "https://localhost:8080/"
        },
        "id": "mfUrLaGvBW0E",
        "outputId": "855e65b3-cdc1-493c-d34d-113555775633"
      },
      "source": [
        "sample_decoder_layer = DecoderLayer(512, 8, 2048)\r\n",
        "\r\n",
        "sample_decoder_layer_output, _, _ = sample_decoder_layer(\r\n",
        "    tf.random.uniform((64, 50, 512)), sample_encoder_layer_output, \r\n",
        "    False, None, None)\r\n",
        "\r\n",
        "sample_decoder_layer_output.shape  # (batch_size, target_seq_len, d_model)"
      ],
      "execution_count": 44,
      "outputs": [
        {
          "output_type": "execute_result",
          "data": {
            "text/plain": [
              "TensorShape([64, 50, 512])"
            ]
          },
          "metadata": {
            "tags": []
          },
          "execution_count": 44
        }
      ]
    },
    {
      "cell_type": "code",
      "metadata": {
        "id": "kqFZx4ZIBg07"
      },
      "source": [
        "class Encoder(tf.keras.layers.Layer):\r\n",
        "  def __init__(self, num_layers, d_model, num_heads, dff, input_vocab_size,\r\n",
        "               maximum_position_encoding, rate=0.1):\r\n",
        "    super(Encoder, self).__init__()\r\n",
        "\r\n",
        "    self.d_model = d_model\r\n",
        "    self.num_layers = num_layers\r\n",
        "    \r\n",
        "    self.embedding = tf.keras.layers.Embedding(input_vocab_size, d_model)\r\n",
        "    self.pos_encoding = positional_encoding(maximum_position_encoding, \r\n",
        "                                            self.d_model)\r\n",
        "    \r\n",
        "    \r\n",
        "    self.enc_layers = [EncoderLayer(d_model, num_heads, dff, rate) \r\n",
        "                       for _ in range(num_layers)]\r\n",
        "  \r\n",
        "    self.dropout = tf.keras.layers.Dropout(rate)\r\n",
        "        \r\n",
        "  def call(self, x, training, mask):\r\n",
        "\r\n",
        "    seq_len = tf.shape(x)[1]\r\n",
        "    \r\n",
        "    # adding embedding and position encoding.\r\n",
        "    x = self.embedding(x)  # (batch_size, input_seq_len, d_model)\r\n",
        "    x *= tf.math.sqrt(tf.cast(self.d_model, tf.float32))\r\n",
        "    x += self.pos_encoding[:, :seq_len, :]\r\n",
        "\r\n",
        "    x = self.dropout(x, training=training)\r\n",
        "    \r\n",
        "    for i in range(self.num_layers):\r\n",
        "      x = self.enc_layers[i](x, training, mask)\r\n",
        "    \r\n",
        "    return x  # (batch_size, input_seq_len, d_model)"
      ],
      "execution_count": 45,
      "outputs": []
    },
    {
      "cell_type": "code",
      "metadata": {
        "colab": {
          "base_uri": "https://localhost:8080/"
        },
        "id": "P7Mno0w7Bqmc",
        "outputId": "87e33efc-f550-49e7-999b-513ec13d6767"
      },
      "source": [
        "sample_encoder = Encoder(num_layers=2, d_model=512, num_heads=8, \r\n",
        "                         dff=2048, input_vocab_size=8500,\r\n",
        "                         maximum_position_encoding=10000)\r\n",
        "temp_input = tf.random.uniform((64, 62), dtype=tf.int64, minval=0, maxval=200)\r\n",
        "\r\n",
        "sample_encoder_output = sample_encoder(temp_input, training=False, mask=None)\r\n",
        "\r\n",
        "print (sample_encoder_output.shape)  # (batch_size, input_seq_len, d_model)"
      ],
      "execution_count": 46,
      "outputs": [
        {
          "output_type": "stream",
          "text": [
            "(64, 62, 512)\n"
          ],
          "name": "stdout"
        }
      ]
    },
    {
      "cell_type": "code",
      "metadata": {
        "id": "3QaVyQjIBvns"
      },
      "source": [
        "class Decoder(tf.keras.layers.Layer):\r\n",
        "  def __init__(self, num_layers, d_model, num_heads, dff, target_vocab_size,\r\n",
        "               maximum_position_encoding, rate=0.1):\r\n",
        "    super(Decoder, self).__init__()\r\n",
        "\r\n",
        "    self.d_model = d_model\r\n",
        "    self.num_layers = num_layers\r\n",
        "    \r\n",
        "    self.embedding = tf.keras.layers.Embedding(target_vocab_size, d_model)\r\n",
        "    self.pos_encoding = positional_encoding(maximum_position_encoding, d_model)\r\n",
        "    \r\n",
        "    self.dec_layers = [DecoderLayer(d_model, num_heads, dff, rate) \r\n",
        "                       for _ in range(num_layers)]\r\n",
        "    self.dropout = tf.keras.layers.Dropout(rate)\r\n",
        "    \r\n",
        "  def call(self, x, enc_output, training, \r\n",
        "           look_ahead_mask, padding_mask):\r\n",
        "\r\n",
        "    seq_len = tf.shape(x)[1]\r\n",
        "    attention_weights = {}\r\n",
        "    \r\n",
        "    x = self.embedding(x)  # (batch_size, target_seq_len, d_model)\r\n",
        "    x *= tf.math.sqrt(tf.cast(self.d_model, tf.float32))\r\n",
        "    x += self.pos_encoding[:, :seq_len, :]\r\n",
        "    \r\n",
        "    x = self.dropout(x, training=training)\r\n",
        "\r\n",
        "    for i in range(self.num_layers):\r\n",
        "      x, block1, block2 = self.dec_layers[i](x, enc_output, training,\r\n",
        "                                             look_ahead_mask, padding_mask)\r\n",
        "      \r\n",
        "      attention_weights['decoder_layer{}_block1'.format(i+1)] = block1\r\n",
        "      attention_weights['decoder_layer{}_block2'.format(i+1)] = block2\r\n",
        "    \r\n",
        "    # x.shape == (batch_size, target_seq_len, d_model)\r\n",
        "    return x, attention_weights"
      ],
      "execution_count": 47,
      "outputs": []
    },
    {
      "cell_type": "code",
      "metadata": {
        "colab": {
          "base_uri": "https://localhost:8080/"
        },
        "id": "omP38OH6BzUl",
        "outputId": "030954ae-fe5c-46b2-fcf4-4611fd6ad8cd"
      },
      "source": [
        "sample_decoder = Decoder(num_layers=2, d_model=512, num_heads=8, \r\n",
        "                         dff=2048, target_vocab_size=8000,\r\n",
        "                         maximum_position_encoding=5000)\r\n",
        "temp_input = tf.random.uniform((64, 26), dtype=tf.int64, minval=0, maxval=200)\r\n",
        "\r\n",
        "output, attn = sample_decoder(temp_input, \r\n",
        "                              enc_output=sample_encoder_output, \r\n",
        "                              training=False,\r\n",
        "                              look_ahead_mask=None, \r\n",
        "                              padding_mask=None)\r\n",
        "\r\n",
        "output.shape, attn['decoder_layer2_block2'].shape"
      ],
      "execution_count": 48,
      "outputs": [
        {
          "output_type": "execute_result",
          "data": {
            "text/plain": [
              "(TensorShape([64, 26, 512]), TensorShape([64, 8, 26, 62]))"
            ]
          },
          "metadata": {
            "tags": []
          },
          "execution_count": 48
        }
      ]
    },
    {
      "cell_type": "code",
      "metadata": {
        "id": "uoiSj9s-B4rs"
      },
      "source": [
        "class Transformer(tf.keras.Model):\r\n",
        "  def __init__(self, num_layers, d_model, num_heads, dff, input_vocab_size, \r\n",
        "               target_vocab_size, pe_input, pe_target, rate=0.1):\r\n",
        "    super(Transformer, self).__init__()\r\n",
        "\r\n",
        "    self.encoder = Encoder(num_layers, d_model, num_heads, dff, \r\n",
        "                           input_vocab_size, pe_input, rate)\r\n",
        "\r\n",
        "    self.decoder = Decoder(num_layers, d_model, num_heads, dff, \r\n",
        "                           target_vocab_size, pe_target, rate)\r\n",
        "\r\n",
        "    self.final_layer = tf.keras.layers.Dense(target_vocab_size)\r\n",
        "    \r\n",
        "  def call(self, inp, tar, training, enc_padding_mask, \r\n",
        "           look_ahead_mask, dec_padding_mask):\r\n",
        "\r\n",
        "    enc_output = self.encoder(inp, training, enc_padding_mask)  # (batch_size, inp_seq_len, d_model)\r\n",
        "    \r\n",
        "    # dec_output.shape == (batch_size, tar_seq_len, d_model)\r\n",
        "    dec_output, attention_weights = self.decoder(\r\n",
        "        tar, enc_output, training, look_ahead_mask, dec_padding_mask)\r\n",
        "    \r\n",
        "    final_output = self.final_layer(dec_output)  # (batch_size, tar_seq_len, target_vocab_size)\r\n",
        "    \r\n",
        "    return final_output, attention_weights"
      ],
      "execution_count": 49,
      "outputs": []
    },
    {
      "cell_type": "code",
      "metadata": {
        "colab": {
          "base_uri": "https://localhost:8080/"
        },
        "id": "aF1MvhkeB9HE",
        "outputId": "20f8b597-f7a3-49d8-c7e6-333e69e58a3e"
      },
      "source": [
        "sample_transformer = Transformer(\r\n",
        "    num_layers=2, d_model=512, num_heads=8, dff=2048, \r\n",
        "    input_vocab_size=8500, target_vocab_size=8000, \r\n",
        "    pe_input=10000, pe_target=6000)\r\n",
        "\r\n",
        "temp_input = tf.random.uniform((64, 38), dtype=tf.int64, minval=0, maxval=200)\r\n",
        "temp_target = tf.random.uniform((64, 36), dtype=tf.int64, minval=0, maxval=200)\r\n",
        "\r\n",
        "fn_out, _ = sample_transformer(temp_input, temp_target, training=False, \r\n",
        "                               enc_padding_mask=None, \r\n",
        "                               look_ahead_mask=None,\r\n",
        "                               dec_padding_mask=None)\r\n",
        "\r\n",
        "fn_out.shape  # (batch_size, tar_seq_len, target_vocab_size)"
      ],
      "execution_count": 50,
      "outputs": [
        {
          "output_type": "execute_result",
          "data": {
            "text/plain": [
              "TensorShape([64, 36, 8000])"
            ]
          },
          "metadata": {
            "tags": []
          },
          "execution_count": 50
        }
      ]
    },
    {
      "cell_type": "code",
      "metadata": {
        "id": "_v66ZqNOCCJc"
      },
      "source": [
        "num_layers = 4\r\n",
        "d_model = 128\r\n",
        "dff = 512\r\n",
        "num_heads = 8\r\n",
        "\r\n",
        "input_vocab_size = tokenizer_pt.vocab_size + 2\r\n",
        "target_vocab_size = tokenizer_en.vocab_size + 2\r\n",
        "dropout_rate = 0.1"
      ],
      "execution_count": 51,
      "outputs": []
    },
    {
      "cell_type": "code",
      "metadata": {
        "id": "2-1EIubcCLc8"
      },
      "source": [
        "class CustomSchedule(tf.keras.optimizers.schedules.LearningRateSchedule):\r\n",
        "  def __init__(self, d_model, warmup_steps=4000):\r\n",
        "    super(CustomSchedule, self).__init__()\r\n",
        "    \r\n",
        "    self.d_model = d_model\r\n",
        "    self.d_model = tf.cast(self.d_model, tf.float32)\r\n",
        "\r\n",
        "    self.warmup_steps = warmup_steps\r\n",
        "    \r\n",
        "  def __call__(self, step):\r\n",
        "    arg1 = tf.math.rsqrt(step)\r\n",
        "    arg2 = step * (self.warmup_steps ** -1.5)\r\n",
        "    \r\n",
        "    return tf.math.rsqrt(self.d_model) * tf.math.minimum(arg1, arg2)"
      ],
      "execution_count": 52,
      "outputs": []
    },
    {
      "cell_type": "code",
      "metadata": {
        "id": "wZBGH0mPCP1d"
      },
      "source": [
        "learning_rate = CustomSchedule(d_model)\r\n",
        "\r\n",
        "optimizer = tf.keras.optimizers.Adam(learning_rate, beta_1=0.9, beta_2=0.98, \r\n",
        "                                     epsilon=1e-9)"
      ],
      "execution_count": 53,
      "outputs": []
    },
    {
      "cell_type": "code",
      "metadata": {
        "id": "K7i2m5PQCUcE"
      },
      "source": [
        "temp_learning_rate_schedule = CustomSchedule(d_model)\r\n",
        "\r\n",
        "plt.plot(temp_learning_rate_schedule(tf.range(40000, dtype=tf.float32)))\r\n",
        "plt.ylabel(\"Learning Rate\")\r\n",
        "plt.xlabel(\"Train Step\")"
      ],
      "execution_count": null,
      "outputs": []
    },
    {
      "cell_type": "code",
      "metadata": {
        "id": "OvvOVetJCbWt"
      },
      "source": [
        "loss_object = tf.keras.losses.SparseCategoricalCrossentropy(\r\n",
        "    from_logits=True, reduction='none')"
      ],
      "execution_count": 55,
      "outputs": []
    },
    {
      "cell_type": "code",
      "metadata": {
        "id": "E5qPuUv6CeG1"
      },
      "source": [
        "def loss_function(real, pred):\r\n",
        "  mask = tf.math.logical_not(tf.math.equal(real, 0))\r\n",
        "  loss_ = loss_object(real, pred)\r\n",
        "\r\n",
        "  mask = tf.cast(mask, dtype=loss_.dtype)\r\n",
        "  loss_ *= mask\r\n",
        "  \r\n",
        "  return tf.reduce_sum(loss_)/tf.reduce_sum(mask)\r\n",
        "\r\n",
        "\r\n",
        "def accuracy_function(real, pred):\r\n",
        "  accuracies = tf.equal(real, tf.argmax(pred, axis=2))\r\n",
        "  \r\n",
        "  mask = tf.math.logical_not(tf.math.equal(real, 0))\r\n",
        "  accuracies = tf.math.logical_and(mask, accuracies)\r\n",
        "\r\n",
        "  accuracies = tf.cast(accuracies, dtype=tf.float32)\r\n",
        "  mask = tf.cast(mask, dtype=tf.float32)\r\n",
        "  return tf.reduce_sum(accuracies)/tf.reduce_sum(mask)"
      ],
      "execution_count": 56,
      "outputs": []
    },
    {
      "cell_type": "code",
      "metadata": {
        "id": "KU6t0_wtCiS7"
      },
      "source": [
        "train_loss = tf.keras.metrics.Mean(name='train_loss')\r\n",
        "train_accuracy = tf.keras.metrics.Mean(name='train_accuracy')"
      ],
      "execution_count": 57,
      "outputs": []
    },
    {
      "cell_type": "code",
      "metadata": {
        "id": "p-idj8U9CpLd"
      },
      "source": [
        "transformer = Transformer(num_layers, d_model, num_heads, dff,\r\n",
        "                          input_vocab_size, target_vocab_size, \r\n",
        "                          pe_input=input_vocab_size, \r\n",
        "                          pe_target=target_vocab_size,\r\n",
        "                          rate=dropout_rate)"
      ],
      "execution_count": 58,
      "outputs": []
    },
    {
      "cell_type": "code",
      "metadata": {
        "id": "bFJPUQbmCuvN"
      },
      "source": [
        "def create_masks(inp, tar):\r\n",
        "  # Encoder padding mask\r\n",
        "  enc_padding_mask = create_padding_mask(inp)\r\n",
        "  \r\n",
        "  # Used in the 2nd attention block in the decoder.\r\n",
        "  # This padding mask is used to mask the encoder outputs.\r\n",
        "  dec_padding_mask = create_padding_mask(inp)\r\n",
        "  \r\n",
        "  # Used in the 1st attention block in the decoder.\r\n",
        "  # It is used to pad and mask future tokens in the input received by \r\n",
        "  # the decoder.\r\n",
        "  look_ahead_mask = create_look_ahead_mask(tf.shape(tar)[1])\r\n",
        "  dec_target_padding_mask = create_padding_mask(tar)\r\n",
        "  combined_mask = tf.maximum(dec_target_padding_mask, look_ahead_mask)\r\n",
        "  \r\n",
        "  return enc_padding_mask, combined_mask, dec_padding_mask"
      ],
      "execution_count": 59,
      "outputs": []
    },
    {
      "cell_type": "code",
      "metadata": {
        "id": "GOS5GOw1C0LX"
      },
      "source": [
        "checkpoint_path = \"./checkpoints/train\"\r\n",
        "\r\n",
        "ckpt = tf.train.Checkpoint(transformer=transformer,\r\n",
        "                           optimizer=optimizer)\r\n",
        "\r\n",
        "ckpt_manager = tf.train.CheckpointManager(ckpt, checkpoint_path, max_to_keep=5)\r\n",
        "\r\n",
        "# if a checkpoint exists, restore the latest checkpoint.\r\n",
        "if ckpt_manager.latest_checkpoint:\r\n",
        "  ckpt.restore(ckpt_manager.latest_checkpoint)\r\n",
        "  print ('Latest checkpoint restored!!')"
      ],
      "execution_count": 60,
      "outputs": []
    },
    {
      "cell_type": "code",
      "metadata": {
        "id": "35wbRDciC9g9"
      },
      "source": [
        "EPOCHS = 20"
      ],
      "execution_count": 61,
      "outputs": []
    },
    {
      "cell_type": "code",
      "metadata": {
        "id": "GXgyZlESDA29"
      },
      "source": [
        "# The @tf.function trace-compiles train_step into a TF graph for faster\r\n",
        "# execution. The function specializes to the precise shape of the argument\r\n",
        "# tensors. To avoid re-tracing due to the variable sequence lengths or variable\r\n",
        "# batch sizes (the last batch is smaller), use input_signature to specify\r\n",
        "# more generic shapes.\r\n",
        "\r\n",
        "train_step_signature = [\r\n",
        "    tf.TensorSpec(shape=(None, None), dtype=tf.int64),\r\n",
        "    tf.TensorSpec(shape=(None, None), dtype=tf.int64),\r\n",
        "]\r\n",
        "\r\n",
        "@tf.function(input_signature=train_step_signature)\r\n",
        "def train_step(inp, tar):\r\n",
        "  tar_inp = tar[:, :-1]\r\n",
        "  tar_real = tar[:, 1:]\r\n",
        "  \r\n",
        "  enc_padding_mask, combined_mask, dec_padding_mask = create_masks(inp, tar_inp)\r\n",
        "  \r\n",
        "  with tf.GradientTape() as tape:\r\n",
        "    predictions, _ = transformer(inp, tar_inp, \r\n",
        "                                 True, \r\n",
        "                                 enc_padding_mask, \r\n",
        "                                 combined_mask, \r\n",
        "                                 dec_padding_mask)\r\n",
        "    loss = loss_function(tar_real, predictions)\r\n",
        "\r\n",
        "  gradients = tape.gradient(loss, transformer.trainable_variables)    \r\n",
        "  optimizer.apply_gradients(zip(gradients, transformer.trainable_variables))\r\n",
        "  \r\n",
        "  train_loss(loss)\r\n",
        "  train_accuracy(accuracy_function(tar_real, predictions))"
      ],
      "execution_count": 62,
      "outputs": []
    },
    {
      "cell_type": "code",
      "metadata": {
        "id": "FdxJaXoHDHUW"
      },
      "source": [
        "for epoch in range(EPOCHS):\r\n",
        "  start = time.time()\r\n",
        "  \r\n",
        "  train_loss.reset_states()\r\n",
        "  train_accuracy.reset_states()\r\n",
        "  \r\n",
        "  # inp -> portuguese, tar -> english\r\n",
        "  for (batch, (inp, tar)) in enumerate(train_dataset):\r\n",
        "    train_step(inp, tar)\r\n",
        "    \r\n",
        "    if batch % 50 == 0:\r\n",
        "      print ('Epoch {} Batch {} Loss {:.4f} Accuracy {:.4f}'.format(\r\n",
        "          epoch + 1, batch, train_loss.result(), train_accuracy.result()))\r\n",
        "      \r\n",
        "  if (epoch + 1) % 5 == 0:\r\n",
        "    ckpt_save_path = ckpt_manager.save()\r\n",
        "    print ('Saving checkpoint for epoch {} at {}'.format(epoch+1,\r\n",
        "                                                         ckpt_save_path))\r\n",
        "    \r\n",
        "  print ('Epoch {} Loss {:.4f} Accuracy {:.4f}'.format(epoch + 1, \r\n",
        "                                                train_loss.result(), \r\n",
        "                                                train_accuracy.result()))\r\n",
        "\r\n",
        "  print ('Time taken for 1 epoch: {} secs\\n'.format(time.time() - start))"
      ],
      "execution_count": null,
      "outputs": []
    },
    {
      "cell_type": "code",
      "metadata": {
        "id": "jt2DtKYEJrMH"
      },
      "source": [
        "def evaluate(inp_sentence):\r\n",
        "  start_token = [tokenizer_pt.vocab_size]\r\n",
        "  end_token = [tokenizer_pt.vocab_size + 1]\r\n",
        "  \r\n",
        "  # inp sentence is portuguese, hence adding the start and end token\r\n",
        "  inp_sentence = start_token + tokenizer_pt.encode(inp_sentence) + end_token\r\n",
        "  encoder_input = tf.expand_dims(inp_sentence, 0)\r\n",
        "  \r\n",
        "  # as the target is english, the first word to the transformer should be the\r\n",
        "  # english start token.\r\n",
        "  decoder_input = [tokenizer_en.vocab_size]\r\n",
        "  output = tf.expand_dims(decoder_input, 0)\r\n",
        "    \r\n",
        "  for i in range(MAX_LENGTH):\r\n",
        "    enc_padding_mask, combined_mask, dec_padding_mask = create_masks(\r\n",
        "        encoder_input, output)\r\n",
        "  \r\n",
        "    # predictions.shape == (batch_size, seq_len, vocab_size)\r\n",
        "    predictions, attention_weights = transformer(encoder_input, \r\n",
        "                                                 output,\r\n",
        "                                                 False,\r\n",
        "                                                 enc_padding_mask,\r\n",
        "                                                 combined_mask,\r\n",
        "                                                 dec_padding_mask)\r\n",
        "    \r\n",
        "    # select the last word from the seq_len dimension\r\n",
        "    predictions = predictions[: ,-1:, :]  # (batch_size, 1, vocab_size)\r\n",
        "\r\n",
        "    predicted_id = tf.cast(tf.argmax(predictions, axis=-1), tf.int32)\r\n",
        "    \r\n",
        "    # return the result if the predicted_id is equal to the end token\r\n",
        "    if predicted_id == tokenizer_en.vocab_size+1:\r\n",
        "      return tf.squeeze(output, axis=0), attention_weights\r\n",
        "    \r\n",
        "    # concatentate the predicted_id to the output which is given to the decoder\r\n",
        "    # as its input.\r\n",
        "    output = tf.concat([output, predicted_id], axis=-1)\r\n",
        "\r\n",
        "  return tf.squeeze(output, axis=0), attention_weights"
      ],
      "execution_count": 64,
      "outputs": []
    },
    {
      "cell_type": "code",
      "metadata": {
        "id": "9rQoqcE-JxI9"
      },
      "source": [
        "def plot_attention_weights(attention, sentence, result, layer):\r\n",
        "  fig = plt.figure(figsize=(16, 8))\r\n",
        "  \r\n",
        "  sentence = tokenizer_pt.encode(sentence)\r\n",
        "  \r\n",
        "  attention = tf.squeeze(attention[layer], axis=0)\r\n",
        "  \r\n",
        "  for head in range(attention.shape[0]):\r\n",
        "    ax = fig.add_subplot(2, 4, head+1)\r\n",
        "    \r\n",
        "    # plot the attention weights\r\n",
        "    ax.matshow(attention[head][:-1, :], cmap='viridis')\r\n",
        "\r\n",
        "    fontdict = {'fontsize': 10}\r\n",
        "    \r\n",
        "    ax.set_xticks(range(len(sentence)+2))\r\n",
        "    ax.set_yticks(range(len(result)))\r\n",
        "    \r\n",
        "    ax.set_ylim(len(result)-1.5, -0.5)\r\n",
        "        \r\n",
        "    ax.set_xticklabels(\r\n",
        "        ['<start>']+[tokenizer_pt.decode([i]) for i in sentence]+['<end>'], \r\n",
        "        fontdict=fontdict, rotation=90)\r\n",
        "    \r\n",
        "    ax.set_yticklabels([tokenizer_en.decode([i]) for i in result \r\n",
        "                        if i < tokenizer_en.vocab_size], \r\n",
        "                       fontdict=fontdict)\r\n",
        "    \r\n",
        "    ax.set_xlabel('Head {}'.format(head+1))\r\n",
        "  \r\n",
        "  plt.tight_layout()\r\n",
        "  plt.show()"
      ],
      "execution_count": 65,
      "outputs": []
    },
    {
      "cell_type": "code",
      "metadata": {
        "id": "2CUQkiOhJ2O9"
      },
      "source": [
        "def translate(sentence, plot=''):\r\n",
        "  result, attention_weights = evaluate(sentence)\r\n",
        "  \r\n",
        "  predicted_sentence = tokenizer_en.decode([i for i in result \r\n",
        "                                            if i < tokenizer_en.vocab_size])  \r\n",
        "\r\n",
        "  print('Input: {}'.format(sentence))\r\n",
        "  print('Predicted translation: {}'.format(predicted_sentence))\r\n",
        "  \r\n",
        "  if plot:\r\n",
        "    plot_attention_weights(attention_weights, sentence, result, plot)"
      ],
      "execution_count": 66,
      "outputs": []
    },
    {
      "cell_type": "code",
      "metadata": {
        "colab": {
          "base_uri": "https://localhost:8080/"
        },
        "id": "lcGV0M9EJ9cI",
        "outputId": "9f43cc89-6b7c-44b3-ae84-eb68f3977e6b"
      },
      "source": [
        "translate(\"este é um problema que temos que resolver.\")\r\n",
        "print (\"Real translation: this is a problem we have to solve .\")"
      ],
      "execution_count": 67,
      "outputs": [
        {
          "output_type": "stream",
          "text": [
            "Input: este é um problema que temos que resolver.\n",
            "Predicted translation: this is a problem that we have to solve the united states .\n",
            "Real translation: this is a problem we have to solve .\n"
          ],
          "name": "stdout"
        }
      ]
    },
    {
      "cell_type": "code",
      "metadata": {
        "colab": {
          "base_uri": "https://localhost:8080/",
          "height": 598
        },
        "id": "TZ3KpcDbKQOx",
        "outputId": "96ee9078-c66f-44f9-8333-2dd956a665c5"
      },
      "source": [
        "translate(\"este é o primeiro livro que eu fiz.\", plot='decoder_layer4_block2')\r\n",
        "print (\"Real translation: this is the first book i've ever done.\")"
      ],
      "execution_count": 68,
      "outputs": [
        {
          "output_type": "stream",
          "text": [
            "Input: este é o primeiro livro que eu fiz.\n",
            "Predicted translation: this is the first book i did .\n"
          ],
          "name": "stdout"
        },
        {
          "output_type": "display_data",
          "data": {
            "image/png": "[encoded data removed]",
            "text/plain": [
              "<Figure size 1152x576 with 8 Axes>"
            ]
          },
          "metadata": {
            "tags": [],
            "needs_background": "light"
          }
        },
        {
          "output_type": "stream",
          "text": [
            "Real translation: this is the first book i've ever done.\n"
          ],
          "name": "stdout"
        }
      ]
    }
  ]
}